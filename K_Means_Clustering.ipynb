{
  "nbformat": 4,
  "nbformat_minor": 0,
  "metadata": {
    "colab": {
      "provenance": [],
      "collapsed_sections": [],
      "authorship_tag": "ABX9TyNQBpy+0nGq2/btREPeG8na",
      "include_colab_link": true
    },
    "kernelspec": {
      "name": "python3",
      "display_name": "Python 3"
    },
    "language_info": {
      "name": "python"
    }
  },
  "cells": [
    {
      "cell_type": "markdown",
      "metadata": {
        "id": "view-in-github",
        "colab_type": "text"
      },
      "source": [
        "<a href=\"https://colab.research.google.com/github/ChhaSahil/Rinex_MP/blob/main/K_Means_Clustering.ipynb\" target=\"_parent\"><img src=\"https://colab.research.google.com/assets/colab-badge.svg\" alt=\"Open In Colab\"/></a>"
      ]
    },
    {
      "cell_type": "markdown",
      "source": [
        "Customer Segmentation using K-means Clustering"
      ],
      "metadata": {
        "id": "d0yzaGvkAwqR"
      }
    },
    {
      "cell_type": "markdown",
      "source": [
        "Importing required Libraries"
      ],
      "metadata": {
        "id": "1R4fYHmQMhS5"
      }
    },
    {
      "cell_type": "code",
      "execution_count": null,
      "metadata": {
        "id": "F44_okWG_yWx"
      },
      "outputs": [],
      "source": [
        "import numpy as np\n",
        "import pandas as pd\n",
        "import matplotlib.pyplot as plt\n",
        "import seaborn as sns"
      ]
    },
    {
      "cell_type": "markdown",
      "source": [
        "Getting the Data"
      ],
      "metadata": {
        "id": "tgcEOFfQMmWa"
      }
    },
    {
      "cell_type": "code",
      "source": [
        "customer_data=pd.read_csv('/content/Mall_Customers.csv')"
      ],
      "metadata": {
        "id": "8-z11TW7_7jP"
      },
      "execution_count": null,
      "outputs": []
    },
    {
      "cell_type": "code",
      "source": [
        "customer_data.head()"
      ],
      "metadata": {
        "colab": {
          "base_uri": "https://localhost:8080/",
          "height": 206
        },
        "id": "jR-67SnCApVw",
        "outputId": "09baf410-3a40-4a06-a557-eb2cc835cb85"
      },
      "execution_count": null,
      "outputs": [
        {
          "output_type": "execute_result",
          "data": {
            "text/plain": [
              "   CustomerID  Gender  Age  Annual Income (k$)  Spending Score (1-100)\n",
              "0           1    Male   19                  15                      39\n",
              "1           2    Male   21                  15                      81\n",
              "2           3  Female   20                  16                       6\n",
              "3           4  Female   23                  16                      77\n",
              "4           5  Female   31                  17                      40"
            ],
            "text/html": [
              "\n",
              "  <div id=\"df-ce22b5c1-dc29-4319-851c-4d575ed9b06d\">\n",
              "    <div class=\"colab-df-container\">\n",
              "      <div>\n",
              "<style scoped>\n",
              "    .dataframe tbody tr th:only-of-type {\n",
              "        vertical-align: middle;\n",
              "    }\n",
              "\n",
              "    .dataframe tbody tr th {\n",
              "        vertical-align: top;\n",
              "    }\n",
              "\n",
              "    .dataframe thead th {\n",
              "        text-align: right;\n",
              "    }\n",
              "</style>\n",
              "<table border=\"1\" class=\"dataframe\">\n",
              "  <thead>\n",
              "    <tr style=\"text-align: right;\">\n",
              "      <th></th>\n",
              "      <th>CustomerID</th>\n",
              "      <th>Gender</th>\n",
              "      <th>Age</th>\n",
              "      <th>Annual Income (k$)</th>\n",
              "      <th>Spending Score (1-100)</th>\n",
              "    </tr>\n",
              "  </thead>\n",
              "  <tbody>\n",
              "    <tr>\n",
              "      <th>0</th>\n",
              "      <td>1</td>\n",
              "      <td>Male</td>\n",
              "      <td>19</td>\n",
              "      <td>15</td>\n",
              "      <td>39</td>\n",
              "    </tr>\n",
              "    <tr>\n",
              "      <th>1</th>\n",
              "      <td>2</td>\n",
              "      <td>Male</td>\n",
              "      <td>21</td>\n",
              "      <td>15</td>\n",
              "      <td>81</td>\n",
              "    </tr>\n",
              "    <tr>\n",
              "      <th>2</th>\n",
              "      <td>3</td>\n",
              "      <td>Female</td>\n",
              "      <td>20</td>\n",
              "      <td>16</td>\n",
              "      <td>6</td>\n",
              "    </tr>\n",
              "    <tr>\n",
              "      <th>3</th>\n",
              "      <td>4</td>\n",
              "      <td>Female</td>\n",
              "      <td>23</td>\n",
              "      <td>16</td>\n",
              "      <td>77</td>\n",
              "    </tr>\n",
              "    <tr>\n",
              "      <th>4</th>\n",
              "      <td>5</td>\n",
              "      <td>Female</td>\n",
              "      <td>31</td>\n",
              "      <td>17</td>\n",
              "      <td>40</td>\n",
              "    </tr>\n",
              "  </tbody>\n",
              "</table>\n",
              "</div>\n",
              "      <button class=\"colab-df-convert\" onclick=\"convertToInteractive('df-ce22b5c1-dc29-4319-851c-4d575ed9b06d')\"\n",
              "              title=\"Convert this dataframe to an interactive table.\"\n",
              "              style=\"display:none;\">\n",
              "        \n",
              "  <svg xmlns=\"http://www.w3.org/2000/svg\" height=\"24px\"viewBox=\"0 0 24 24\"\n",
              "       width=\"24px\">\n",
              "    <path d=\"M0 0h24v24H0V0z\" fill=\"none\"/>\n",
              "    <path d=\"M18.56 5.44l.94 2.06.94-2.06 2.06-.94-2.06-.94-.94-2.06-.94 2.06-2.06.94zm-11 1L8.5 8.5l.94-2.06 2.06-.94-2.06-.94L8.5 2.5l-.94 2.06-2.06.94zm10 10l.94 2.06.94-2.06 2.06-.94-2.06-.94-.94-2.06-.94 2.06-2.06.94z\"/><path d=\"M17.41 7.96l-1.37-1.37c-.4-.4-.92-.59-1.43-.59-.52 0-1.04.2-1.43.59L10.3 9.45l-7.72 7.72c-.78.78-.78 2.05 0 2.83L4 21.41c.39.39.9.59 1.41.59.51 0 1.02-.2 1.41-.59l7.78-7.78 2.81-2.81c.8-.78.8-2.07 0-2.86zM5.41 20L4 18.59l7.72-7.72 1.47 1.35L5.41 20z\"/>\n",
              "  </svg>\n",
              "      </button>\n",
              "      \n",
              "  <style>\n",
              "    .colab-df-container {\n",
              "      display:flex;\n",
              "      flex-wrap:wrap;\n",
              "      gap: 12px;\n",
              "    }\n",
              "\n",
              "    .colab-df-convert {\n",
              "      background-color: #E8F0FE;\n",
              "      border: none;\n",
              "      border-radius: 50%;\n",
              "      cursor: pointer;\n",
              "      display: none;\n",
              "      fill: #1967D2;\n",
              "      height: 32px;\n",
              "      padding: 0 0 0 0;\n",
              "      width: 32px;\n",
              "    }\n",
              "\n",
              "    .colab-df-convert:hover {\n",
              "      background-color: #E2EBFA;\n",
              "      box-shadow: 0px 1px 2px rgba(60, 64, 67, 0.3), 0px 1px 3px 1px rgba(60, 64, 67, 0.15);\n",
              "      fill: #174EA6;\n",
              "    }\n",
              "\n",
              "    [theme=dark] .colab-df-convert {\n",
              "      background-color: #3B4455;\n",
              "      fill: #D2E3FC;\n",
              "    }\n",
              "\n",
              "    [theme=dark] .colab-df-convert:hover {\n",
              "      background-color: #434B5C;\n",
              "      box-shadow: 0px 1px 3px 1px rgba(0, 0, 0, 0.15);\n",
              "      filter: drop-shadow(0px 1px 2px rgba(0, 0, 0, 0.3));\n",
              "      fill: #FFFFFF;\n",
              "    }\n",
              "  </style>\n",
              "\n",
              "      <script>\n",
              "        const buttonEl =\n",
              "          document.querySelector('#df-ce22b5c1-dc29-4319-851c-4d575ed9b06d button.colab-df-convert');\n",
              "        buttonEl.style.display =\n",
              "          google.colab.kernel.accessAllowed ? 'block' : 'none';\n",
              "\n",
              "        async function convertToInteractive(key) {\n",
              "          const element = document.querySelector('#df-ce22b5c1-dc29-4319-851c-4d575ed9b06d');\n",
              "          const dataTable =\n",
              "            await google.colab.kernel.invokeFunction('convertToInteractive',\n",
              "                                                     [key], {});\n",
              "          if (!dataTable) return;\n",
              "\n",
              "          const docLinkHtml = 'Like what you see? Visit the ' +\n",
              "            '<a target=\"_blank\" href=https://colab.research.google.com/notebooks/data_table.ipynb>data table notebook</a>'\n",
              "            + ' to learn more about interactive tables.';\n",
              "          element.innerHTML = '';\n",
              "          dataTable['output_type'] = 'display_data';\n",
              "          await google.colab.output.renderOutput(dataTable, element);\n",
              "          const docLink = document.createElement('div');\n",
              "          docLink.innerHTML = docLinkHtml;\n",
              "          element.appendChild(docLink);\n",
              "        }\n",
              "      </script>\n",
              "    </div>\n",
              "  </div>\n",
              "  "
            ]
          },
          "metadata": {},
          "execution_count": 3
        }
      ]
    },
    {
      "cell_type": "code",
      "source": [
        "customer_data.shape"
      ],
      "metadata": {
        "colab": {
          "base_uri": "https://localhost:8080/"
        },
        "id": "bHO73kQTAuZt",
        "outputId": "a4bc2a50-2b5c-4503-eb7d-4d31dab21fe6"
      },
      "execution_count": null,
      "outputs": [
        {
          "output_type": "execute_result",
          "data": {
            "text/plain": [
              "(200, 5)"
            ]
          },
          "metadata": {},
          "execution_count": 4
        }
      ]
    },
    {
      "cell_type": "code",
      "source": [
        "customer_data.info()"
      ],
      "metadata": {
        "colab": {
          "base_uri": "https://localhost:8080/"
        },
        "id": "5ryRNgpZBDQY",
        "outputId": "87a0c9db-83d0-4b07-9d80-f5b1f271f322"
      },
      "execution_count": null,
      "outputs": [
        {
          "output_type": "stream",
          "name": "stdout",
          "text": [
            "<class 'pandas.core.frame.DataFrame'>\n",
            "RangeIndex: 200 entries, 0 to 199\n",
            "Data columns (total 5 columns):\n",
            " #   Column                  Non-Null Count  Dtype \n",
            "---  ------                  --------------  ----- \n",
            " 0   CustomerID              200 non-null    int64 \n",
            " 1   Gender                  200 non-null    object\n",
            " 2   Age                     200 non-null    int64 \n",
            " 3   Annual Income (k$)      200 non-null    int64 \n",
            " 4   Spending Score (1-100)  200 non-null    int64 \n",
            "dtypes: int64(4), object(1)\n",
            "memory usage: 7.9+ KB\n"
          ]
        }
      ]
    },
    {
      "cell_type": "markdown",
      "source": [
        "Storing Annual_Income and Spending_Score in X"
      ],
      "metadata": {
        "id": "WsXlFI0yMsfz"
      }
    },
    {
      "cell_type": "code",
      "source": [
        "X=customer_data.iloc[:,[3,4]].values"
      ],
      "metadata": {
        "id": "rlw1v2KhBJcS"
      },
      "execution_count": null,
      "outputs": []
    },
    {
      "cell_type": "code",
      "source": [
        "X"
      ],
      "metadata": {
        "colab": {
          "base_uri": "https://localhost:8080/"
        },
        "id": "r5PuW9B2euYH",
        "outputId": "3e24aae0-2ec3-4537-f8e5-74993b5acc35"
      },
      "execution_count": null,
      "outputs": [
        {
          "output_type": "execute_result",
          "data": {
            "text/plain": [
              "array([[ 15,  39],\n",
              "       [ 15,  81],\n",
              "       [ 16,   6],\n",
              "       [ 16,  77],\n",
              "       [ 17,  40],\n",
              "       [ 17,  76],\n",
              "       [ 18,   6],\n",
              "       [ 18,  94],\n",
              "       [ 19,   3],\n",
              "       [ 19,  72],\n",
              "       [ 19,  14],\n",
              "       [ 19,  99],\n",
              "       [ 20,  15],\n",
              "       [ 20,  77],\n",
              "       [ 20,  13],\n",
              "       [ 20,  79],\n",
              "       [ 21,  35],\n",
              "       [ 21,  66],\n",
              "       [ 23,  29],\n",
              "       [ 23,  98],\n",
              "       [ 24,  35],\n",
              "       [ 24,  73],\n",
              "       [ 25,   5],\n",
              "       [ 25,  73],\n",
              "       [ 28,  14],\n",
              "       [ 28,  82],\n",
              "       [ 28,  32],\n",
              "       [ 28,  61],\n",
              "       [ 29,  31],\n",
              "       [ 29,  87],\n",
              "       [ 30,   4],\n",
              "       [ 30,  73],\n",
              "       [ 33,   4],\n",
              "       [ 33,  92],\n",
              "       [ 33,  14],\n",
              "       [ 33,  81],\n",
              "       [ 34,  17],\n",
              "       [ 34,  73],\n",
              "       [ 37,  26],\n",
              "       [ 37,  75],\n",
              "       [ 38,  35],\n",
              "       [ 38,  92],\n",
              "       [ 39,  36],\n",
              "       [ 39,  61],\n",
              "       [ 39,  28],\n",
              "       [ 39,  65],\n",
              "       [ 40,  55],\n",
              "       [ 40,  47],\n",
              "       [ 40,  42],\n",
              "       [ 40,  42],\n",
              "       [ 42,  52],\n",
              "       [ 42,  60],\n",
              "       [ 43,  54],\n",
              "       [ 43,  60],\n",
              "       [ 43,  45],\n",
              "       [ 43,  41],\n",
              "       [ 44,  50],\n",
              "       [ 44,  46],\n",
              "       [ 46,  51],\n",
              "       [ 46,  46],\n",
              "       [ 46,  56],\n",
              "       [ 46,  55],\n",
              "       [ 47,  52],\n",
              "       [ 47,  59],\n",
              "       [ 48,  51],\n",
              "       [ 48,  59],\n",
              "       [ 48,  50],\n",
              "       [ 48,  48],\n",
              "       [ 48,  59],\n",
              "       [ 48,  47],\n",
              "       [ 49,  55],\n",
              "       [ 49,  42],\n",
              "       [ 50,  49],\n",
              "       [ 50,  56],\n",
              "       [ 54,  47],\n",
              "       [ 54,  54],\n",
              "       [ 54,  53],\n",
              "       [ 54,  48],\n",
              "       [ 54,  52],\n",
              "       [ 54,  42],\n",
              "       [ 54,  51],\n",
              "       [ 54,  55],\n",
              "       [ 54,  41],\n",
              "       [ 54,  44],\n",
              "       [ 54,  57],\n",
              "       [ 54,  46],\n",
              "       [ 57,  58],\n",
              "       [ 57,  55],\n",
              "       [ 58,  60],\n",
              "       [ 58,  46],\n",
              "       [ 59,  55],\n",
              "       [ 59,  41],\n",
              "       [ 60,  49],\n",
              "       [ 60,  40],\n",
              "       [ 60,  42],\n",
              "       [ 60,  52],\n",
              "       [ 60,  47],\n",
              "       [ 60,  50],\n",
              "       [ 61,  42],\n",
              "       [ 61,  49],\n",
              "       [ 62,  41],\n",
              "       [ 62,  48],\n",
              "       [ 62,  59],\n",
              "       [ 62,  55],\n",
              "       [ 62,  56],\n",
              "       [ 62,  42],\n",
              "       [ 63,  50],\n",
              "       [ 63,  46],\n",
              "       [ 63,  43],\n",
              "       [ 63,  48],\n",
              "       [ 63,  52],\n",
              "       [ 63,  54],\n",
              "       [ 64,  42],\n",
              "       [ 64,  46],\n",
              "       [ 65,  48],\n",
              "       [ 65,  50],\n",
              "       [ 65,  43],\n",
              "       [ 65,  59],\n",
              "       [ 67,  43],\n",
              "       [ 67,  57],\n",
              "       [ 67,  56],\n",
              "       [ 67,  40],\n",
              "       [ 69,  58],\n",
              "       [ 69,  91],\n",
              "       [ 70,  29],\n",
              "       [ 70,  77],\n",
              "       [ 71,  35],\n",
              "       [ 71,  95],\n",
              "       [ 71,  11],\n",
              "       [ 71,  75],\n",
              "       [ 71,   9],\n",
              "       [ 71,  75],\n",
              "       [ 72,  34],\n",
              "       [ 72,  71],\n",
              "       [ 73,   5],\n",
              "       [ 73,  88],\n",
              "       [ 73,   7],\n",
              "       [ 73,  73],\n",
              "       [ 74,  10],\n",
              "       [ 74,  72],\n",
              "       [ 75,   5],\n",
              "       [ 75,  93],\n",
              "       [ 76,  40],\n",
              "       [ 76,  87],\n",
              "       [ 77,  12],\n",
              "       [ 77,  97],\n",
              "       [ 77,  36],\n",
              "       [ 77,  74],\n",
              "       [ 78,  22],\n",
              "       [ 78,  90],\n",
              "       [ 78,  17],\n",
              "       [ 78,  88],\n",
              "       [ 78,  20],\n",
              "       [ 78,  76],\n",
              "       [ 78,  16],\n",
              "       [ 78,  89],\n",
              "       [ 78,   1],\n",
              "       [ 78,  78],\n",
              "       [ 78,   1],\n",
              "       [ 78,  73],\n",
              "       [ 79,  35],\n",
              "       [ 79,  83],\n",
              "       [ 81,   5],\n",
              "       [ 81,  93],\n",
              "       [ 85,  26],\n",
              "       [ 85,  75],\n",
              "       [ 86,  20],\n",
              "       [ 86,  95],\n",
              "       [ 87,  27],\n",
              "       [ 87,  63],\n",
              "       [ 87,  13],\n",
              "       [ 87,  75],\n",
              "       [ 87,  10],\n",
              "       [ 87,  92],\n",
              "       [ 88,  13],\n",
              "       [ 88,  86],\n",
              "       [ 88,  15],\n",
              "       [ 88,  69],\n",
              "       [ 93,  14],\n",
              "       [ 93,  90],\n",
              "       [ 97,  32],\n",
              "       [ 97,  86],\n",
              "       [ 98,  15],\n",
              "       [ 98,  88],\n",
              "       [ 99,  39],\n",
              "       [ 99,  97],\n",
              "       [101,  24],\n",
              "       [101,  68],\n",
              "       [103,  17],\n",
              "       [103,  85],\n",
              "       [103,  23],\n",
              "       [103,  69],\n",
              "       [113,   8],\n",
              "       [113,  91],\n",
              "       [120,  16],\n",
              "       [120,  79],\n",
              "       [126,  28],\n",
              "       [126,  74],\n",
              "       [137,  18],\n",
              "       [137,  83]])"
            ]
          },
          "metadata": {},
          "execution_count": 7
        }
      ]
    },
    {
      "cell_type": "markdown",
      "source": [
        "To choose the number of clusters we use WCSS-With Clusters Sum of Squares "
      ],
      "metadata": {
        "id": "GO8wxpZBgt7i"
      }
    },
    {
      "cell_type": "code",
      "source": [
        "from sklearn.cluster import KMeans"
      ],
      "metadata": {
        "id": "FnTfUy7_hSHp"
      },
      "execution_count": null,
      "outputs": []
    },
    {
      "cell_type": "code",
      "source": [
        "wcss=[]\n",
        "for i in range(1,11):\n",
        "  kmeans=KMeans(n_clusters=i,init='k-means++',random_state=42)\n",
        "  kmeans.fit(X)\n",
        "  wcss.append(kmeans.inertia_)"
      ],
      "metadata": {
        "id": "IHBfqcPcgSDT"
      },
      "execution_count": null,
      "outputs": []
    },
    {
      "cell_type": "code",
      "source": [
        "sns.set()\n",
        "plt.plot(range(1,11),wcss)\n",
        "plt.title('The Elbow Method')\n",
        "plt.xlabel('Numbers of Clusters')\n",
        "plt.ylabel('WCSS')"
      ],
      "metadata": {
        "colab": {
          "base_uri": "https://localhost:8080/",
          "height": 318
        },
        "id": "gYAhPpWliBea",
        "outputId": "1f058ccc-e613-4074-b0bf-75f0a9f560e7"
      },
      "execution_count": null,
      "outputs": [
        {
          "output_type": "execute_result",
          "data": {
            "text/plain": [
              "Text(0, 0.5, 'WCSS')"
            ]
          },
          "metadata": {},
          "execution_count": 10
        },
        {
          "output_type": "display_data",
          "data": {
            "text/plain": [
              "<Figure size 432x288 with 1 Axes>"
            ],
            "image/png": "[encoded data removed]"
          },
          "metadata": {}
        }
      ]
    },
    {
      "cell_type": "markdown",
      "source": [
        "The Optimum Number of Clusters=5"
      ],
      "metadata": {
        "id": "-J7F7DS_iwIz"
      }
    },
    {
      "cell_type": "markdown",
      "source": [
        "Training the K-Means Clustering model"
      ],
      "metadata": {
        "id": "gAVefIn5i_j3"
      }
    },
    {
      "cell_type": "code",
      "source": [
        "kmeans=KMeans(n_clusters=5,init='k-means++',random_state=0)\n",
        "y=kmeans.fit_predict(X)"
      ],
      "metadata": {
        "id": "_oZpu4yTivbU"
      },
      "execution_count": null,
      "outputs": []
    },
    {
      "cell_type": "code",
      "source": [
        "y"
      ],
      "metadata": {
        "colab": {
          "base_uri": "https://localhost:8080/"
        },
        "id": "fMNpSWgbimRY",
        "outputId": "c3dff4ca-050c-4dbf-de16-93c6c8ea965f"
      },
      "execution_count": null,
      "outputs": [
        {
          "output_type": "execute_result",
          "data": {
            "text/plain": [
              "array([4, 3, 4, 3, 4, 3, 4, 3, 4, 3, 4, 3, 4, 3, 4, 3, 4, 3, 4, 3, 4, 3,\n",
              "       4, 3, 4, 3, 4, 3, 4, 3, 4, 3, 4, 3, 4, 3, 4, 3, 4, 3, 4, 3, 4, 1,\n",
              "       4, 3, 1, 1, 1, 1, 1, 1, 1, 1, 1, 1, 1, 1, 1, 1, 1, 1, 1, 1, 1, 1,\n",
              "       1, 1, 1, 1, 1, 1, 1, 1, 1, 1, 1, 1, 1, 1, 1, 1, 1, 1, 1, 1, 1, 1,\n",
              "       1, 1, 1, 1, 1, 1, 1, 1, 1, 1, 1, 1, 1, 1, 1, 1, 1, 1, 1, 1, 1, 1,\n",
              "       1, 1, 1, 1, 1, 1, 1, 1, 1, 1, 1, 1, 1, 2, 0, 2, 1, 2, 0, 2, 0, 2,\n",
              "       1, 2, 0, 2, 0, 2, 0, 2, 0, 2, 1, 2, 0, 2, 0, 2, 0, 2, 0, 2, 0, 2,\n",
              "       0, 2, 0, 2, 0, 2, 0, 2, 0, 2, 0, 2, 0, 2, 0, 2, 0, 2, 0, 2, 0, 2,\n",
              "       0, 2, 0, 2, 0, 2, 0, 2, 0, 2, 0, 2, 0, 2, 0, 2, 0, 2, 0, 2, 0, 2,\n",
              "       0, 2], dtype=int32)"
            ]
          },
          "metadata": {},
          "execution_count": 12
        }
      ]
    },
    {
      "cell_type": "markdown",
      "source": [
        "Visualizing the Clusters"
      ],
      "metadata": {
        "id": "bEEK8ns4NG5M"
      }
    },
    {
      "cell_type": "code",
      "source": [
        "plt.figure(figsize=(8,8))\n",
        "plt.scatter(X[y==0,0],X[y==0,1],s=50,c='Orange',label='Cluster1')\n",
        "plt.scatter(X[y==1,0],X[y==1,1],s=50,c='Yellow',label='Cluster2')\n",
        "plt.scatter(X[y==2,0],X[y==2,1],s=50,c='Red',label='Cluster3')\n",
        "plt.scatter(X[y==3,0],X[y==3,1],s=50,c='Blue',label='Cluster4')\n",
        "plt.scatter(X[y==4,0],X[y==4,1],s=50,c='Green',label='Cluster5')\n",
        "plt.scatter(kmeans.cluster_centers_[:,0],kmeans.cluster_centers_[:,1],s=1000,c='cyan',label='Centroids')\n",
        "plt.title('Customer Groups')\n",
        "plt.xlabel('Annual income')\n",
        "plt.ylabel('Spending Score')\n",
        "plt.show()"
      ],
      "metadata": {
        "colab": {
          "base_uri": "https://localhost:8080/",
          "height": 518
        },
        "id": "JFo3xpkzjnU0",
        "outputId": "a7fbb431-ee33-4140-8ea9-ceefedccd815"
      },
      "execution_count": null,
      "outputs": [
        {
          "output_type": "display_data",
          "data": {
            "text/plain": [
              "<Figure size 576x576 with 1 Axes>"
            ],
            "image/png": "[encoded data removed]"
          },
          "metadata": {}
        }
      ]
    },
    {
      "cell_type": "markdown",
      "source": [
        "#Conclusions-\n",
        "Customers with annual income less than 40K and greater than 70K are either spending with a score of 60+ or with 40- Hence the Caretakers of the Mall should sort this issue by providing some membership card to keep the customers engaged with the mall.\n",
        "Customers with annual income between 40K and 70K have a score between 40 and 60 which is good."
      ],
      "metadata": {
        "id": "iIT2u9RqCWJt"
      }
    },
    {
      "cell_type": "markdown",
      "source": [
        "Clustering the Data based on Age and Spend-Score"
      ],
      "metadata": {
        "id": "feVin-9BNMTf"
      }
    },
    {
      "cell_type": "code",
      "source": [
        "Y=customer_data.iloc[:,[2,4]].values"
      ],
      "metadata": {
        "id": "a5FSsyy7nMIq"
      },
      "execution_count": null,
      "outputs": []
    },
    {
      "cell_type": "code",
      "source": [
        "Y"
      ],
      "metadata": {
        "colab": {
          "base_uri": "https://localhost:8080/"
        },
        "id": "_Km_Wg0yFa7T",
        "outputId": "004f5c1e-5e67-4c7a-d287-76485dff635c"
      },
      "execution_count": null,
      "outputs": [
        {
          "output_type": "execute_result",
          "data": {
            "text/plain": [
              "array([[19, 39],\n",
              "       [21, 81],\n",
              "       [20,  6],\n",
              "       [23, 77],\n",
              "       [31, 40],\n",
              "       [22, 76],\n",
              "       [35,  6],\n",
              "       [23, 94],\n",
              "       [64,  3],\n",
              "       [30, 72],\n",
              "       [67, 14],\n",
              "       [35, 99],\n",
              "       [58, 15],\n",
              "       [24, 77],\n",
              "       [37, 13],\n",
              "       [22, 79],\n",
              "       [35, 35],\n",
              "       [20, 66],\n",
              "       [52, 29],\n",
              "       [35, 98],\n",
              "       [35, 35],\n",
              "       [25, 73],\n",
              "       [46,  5],\n",
              "       [31, 73],\n",
              "       [54, 14],\n",
              "       [29, 82],\n",
              "       [45, 32],\n",
              "       [35, 61],\n",
              "       [40, 31],\n",
              "       [23, 87],\n",
              "       [60,  4],\n",
              "       [21, 73],\n",
              "       [53,  4],\n",
              "       [18, 92],\n",
              "       [49, 14],\n",
              "       [21, 81],\n",
              "       [42, 17],\n",
              "       [30, 73],\n",
              "       [36, 26],\n",
              "       [20, 75],\n",
              "       [65, 35],\n",
              "       [24, 92],\n",
              "       [48, 36],\n",
              "       [31, 61],\n",
              "       [49, 28],\n",
              "       [24, 65],\n",
              "       [50, 55],\n",
              "       [27, 47],\n",
              "       [29, 42],\n",
              "       [31, 42],\n",
              "       [49, 52],\n",
              "       [33, 60],\n",
              "       [31, 54],\n",
              "       [59, 60],\n",
              "       [50, 45],\n",
              "       [47, 41],\n",
              "       [51, 50],\n",
              "       [69, 46],\n",
              "       [27, 51],\n",
              "       [53, 46],\n",
              "       [70, 56],\n",
              "       [19, 55],\n",
              "       [67, 52],\n",
              "       [54, 59],\n",
              "       [63, 51],\n",
              "       [18, 59],\n",
              "       [43, 50],\n",
              "       [68, 48],\n",
              "       [19, 59],\n",
              "       [32, 47],\n",
              "       [70, 55],\n",
              "       [47, 42],\n",
              "       [60, 49],\n",
              "       [60, 56],\n",
              "       [59, 47],\n",
              "       [26, 54],\n",
              "       [45, 53],\n",
              "       [40, 48],\n",
              "       [23, 52],\n",
              "       [49, 42],\n",
              "       [57, 51],\n",
              "       [38, 55],\n",
              "       [67, 41],\n",
              "       [46, 44],\n",
              "       [21, 57],\n",
              "       [48, 46],\n",
              "       [55, 58],\n",
              "       [22, 55],\n",
              "       [34, 60],\n",
              "       [50, 46],\n",
              "       [68, 55],\n",
              "       [18, 41],\n",
              "       [48, 49],\n",
              "       [40, 40],\n",
              "       [32, 42],\n",
              "       [24, 52],\n",
              "       [47, 47],\n",
              "       [27, 50],\n",
              "       [48, 42],\n",
              "       [20, 49],\n",
              "       [23, 41],\n",
              "       [49, 48],\n",
              "       [67, 59],\n",
              "       [26, 55],\n",
              "       [49, 56],\n",
              "       [21, 42],\n",
              "       [66, 50],\n",
              "       [54, 46],\n",
              "       [68, 43],\n",
              "       [66, 48],\n",
              "       [65, 52],\n",
              "       [19, 54],\n",
              "       [38, 42],\n",
              "       [19, 46],\n",
              "       [18, 48],\n",
              "       [19, 50],\n",
              "       [63, 43],\n",
              "       [49, 59],\n",
              "       [51, 43],\n",
              "       [50, 57],\n",
              "       [27, 56],\n",
              "       [38, 40],\n",
              "       [40, 58],\n",
              "       [39, 91],\n",
              "       [23, 29],\n",
              "       [31, 77],\n",
              "       [43, 35],\n",
              "       [40, 95],\n",
              "       [59, 11],\n",
              "       [38, 75],\n",
              "       [47,  9],\n",
              "       [39, 75],\n",
              "       [25, 34],\n",
              "       [31, 71],\n",
              "       [20,  5],\n",
              "       [29, 88],\n",
              "       [44,  7],\n",
              "       [32, 73],\n",
              "       [19, 10],\n",
              "       [35, 72],\n",
              "       [57,  5],\n",
              "       [32, 93],\n",
              "       [28, 40],\n",
              "       [32, 87],\n",
              "       [25, 12],\n",
              "       [28, 97],\n",
              "       [48, 36],\n",
              "       [32, 74],\n",
              "       [34, 22],\n",
              "       [34, 90],\n",
              "       [43, 17],\n",
              "       [39, 88],\n",
              "       [44, 20],\n",
              "       [38, 76],\n",
              "       [47, 16],\n",
              "       [27, 89],\n",
              "       [37,  1],\n",
              "       [30, 78],\n",
              "       [34,  1],\n",
              "       [30, 73],\n",
              "       [56, 35],\n",
              "       [29, 83],\n",
              "       [19,  5],\n",
              "       [31, 93],\n",
              "       [50, 26],\n",
              "       [36, 75],\n",
              "       [42, 20],\n",
              "       [33, 95],\n",
              "       [36, 27],\n",
              "       [32, 63],\n",
              "       [40, 13],\n",
              "       [28, 75],\n",
              "       [36, 10],\n",
              "       [36, 92],\n",
              "       [52, 13],\n",
              "       [30, 86],\n",
              "       [58, 15],\n",
              "       [27, 69],\n",
              "       [59, 14],\n",
              "       [35, 90],\n",
              "       [37, 32],\n",
              "       [32, 86],\n",
              "       [46, 15],\n",
              "       [29, 88],\n",
              "       [41, 39],\n",
              "       [30, 97],\n",
              "       [54, 24],\n",
              "       [28, 68],\n",
              "       [41, 17],\n",
              "       [36, 85],\n",
              "       [34, 23],\n",
              "       [32, 69],\n",
              "       [33,  8],\n",
              "       [38, 91],\n",
              "       [47, 16],\n",
              "       [35, 79],\n",
              "       [45, 28],\n",
              "       [32, 74],\n",
              "       [32, 18],\n",
              "       [30, 83]])"
            ]
          },
          "metadata": {},
          "execution_count": 15
        }
      ]
    },
    {
      "cell_type": "code",
      "source": [
        "wcss2=[]\n",
        "for i in range(1,11):\n",
        "  kmeans=KMeans(n_clusters=i,init='k-means++',random_state=0)\n",
        "  kmeans.fit(Y)\n",
        "  wcss2.append(kmeans.inertia_)"
      ],
      "metadata": {
        "id": "za8L-zRKFb_q"
      },
      "execution_count": null,
      "outputs": []
    },
    {
      "cell_type": "code",
      "source": [
        "plt.figure(figsize=(8,8))\n",
        "plt.plot(range(1,11),wcss2)\n",
        "plt.title('The Elbow Method')\n",
        "plt.xlabel('Number of clusters')\n",
        "plt.ylabel('WCSS2')"
      ],
      "metadata": {
        "colab": {
          "base_uri": "https://localhost:8080/",
          "height": 535
        },
        "id": "RjnK2f9yGOoQ",
        "outputId": "c8492784-7993-45c9-dd47-a18c9bef8800"
      },
      "execution_count": null,
      "outputs": [
        {
          "output_type": "execute_result",
          "data": {
            "text/plain": [
              "Text(0, 0.5, 'WCSS2')"
            ]
          },
          "metadata": {},
          "execution_count": 18
        },
        {
          "output_type": "display_data",
          "data": {
            "text/plain": [
              "<Figure size 576x576 with 1 Axes>"
            ],
            "image/png": "[encoded data removed]"
          },
          "metadata": {}
        }
      ]
    },
    {
      "cell_type": "code",
      "source": [
        "kmeans=KMeans(n_clusters=4,init='k-means++',random_state=0)\n",
        "x=kmeans.fit_predict(Y)\n",
        "\n"
      ],
      "metadata": {
        "id": "bKqS0BGhHE7T"
      },
      "execution_count": null,
      "outputs": []
    },
    {
      "cell_type": "code",
      "source": [
        "plt.figure(figsize=(10,10))\n",
        "plt.scatter(Y[x==0,0],Y[x==0,1],s=50,c='orange',label='Cluster1')\n",
        "plt.scatter(Y[x==1,0],Y[x==1,1],s=50,c='purple',label='Cluster2')\n",
        "plt.scatter(Y[x==2,0],Y[x==2,1],s=50,c='grey',label='Cluster3')\n",
        "plt.scatter(Y[x==3,0],Y[x==3,1],s=50,c='red',label='Cluster4')\n",
        "plt.scatter(kmeans.cluster_centers_[:,0],kmeans.cluster_centers_[:,1],s=1000,c='cyan',label='Centeroid')\n",
        "plt.title('Customer Group')\n",
        "plt.xlabel('Age')\n",
        "plt.ylabel('Spend-Score')\n",
        "plt.show()"
      ],
      "metadata": {
        "colab": {
          "base_uri": "https://localhost:8080/",
          "height": 627
        },
        "id": "VRyZIvkgHoHG",
        "outputId": "270817a5-c73c-46fe-9d80-a3915275a239"
      },
      "execution_count": null,
      "outputs": [
        {
          "output_type": "display_data",
          "data": {
            "text/plain": [
              "<Figure size 720x720 with 1 Axes>"
            ],
            "image/png": "[encoded data removed]"
          },
          "metadata": {}
        }
      ]
    },
    {
      "cell_type": "markdown",
      "source": [
        "#Conclusion-2"
      ],
      "metadata": {
        "id": "B3LTihCWrswN"
      }
    },
    {
      "cell_type": "markdown",
      "source": [
        "Customers with age greater than 60 have spending score between 40-60 hence aged people are more loyal towards our mall. Less than 40 years age of people are also spending at a score greater than 40. \n",
        "Only middle aged people have to targeted to increase their spend-score"
      ],
      "metadata": {
        "id": "AloohpJYKdeN"
      }
    },
    {
      "cell_type": "code",
      "source": [],
      "metadata": {
        "id": "9r5-zL-tJjrQ"
      },
      "execution_count": null,
      "outputs": []
    }
  ]
}